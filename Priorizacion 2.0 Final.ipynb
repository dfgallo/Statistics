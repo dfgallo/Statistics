{
 "cells": [
  {
   "cell_type": "code",
   "execution_count": 21,
   "id": "65db34fa",
   "metadata": {},
   "outputs": [],
   "source": [
    "import os\n",
    "import pandas as pd\n",
    "import numpy as np\n",
    "from sklearn.preprocessing import StandardScaler, MinMaxScaler\n",
    "from datetime import datetime\n",
    "import umap.umap_ as umap\n",
    "import matplotlib.pyplot as plt\n",
    "from sklearn.cluster import KMeans\n",
    "import pickle\n",
    "import joblib as joblib\n",
    "from joblib import dump, load\n",
    "import seaborn as sns"
   ]
  },
  {
   "cell_type": "code",
   "execution_count": 22,
   "id": "ee09a719",
   "metadata": {},
   "outputs": [],
   "source": [
    "data = pd.read_csv(\"prio_oct12_features.csv\")"
   ]
  },
  {
   "cell_type": "code",
   "execution_count": 23,
   "id": "d8e73b58",
   "metadata": {},
   "outputs": [],
   "source": [
    "data = data.drop(['prop_critical_delay','speed', 'avg_total_hours_executed', 'consumer_evaluation', 'strikes', '% no negative wallet', 'avg_daily_utr', 'driver_delay_origin', 'orders', 'antiquity'], axis=1)"
   ]
  },
  {
   "cell_type": "markdown",
   "id": "3f7d1b29",
   "metadata": {},
   "source": [
    "### Balancear Variables"
   ]
  },
  {
   "cell_type": "code",
   "execution_count": 24,
   "id": "5cf4ff6d",
   "metadata": {},
   "outputs": [],
   "source": [
    "# data.loc[data['speed']>=40,'speed']=data['speed'].mean()\n",
    "# data.loc[data['avg_daily_utr']>3,'avg_daily_utr']=data['avg_daily_utr'].mean()\n",
    "data.loc[data['avg recharge']>=((data['avg recharge'].std())*3),'avg recharge']=data['avg recharge'].mean()\n",
    "# data.loc[data['prop_critical_delay']>=((data['prop_critical_delay'].std())*3), 'prop_critical_delay']=data['prop_critical_delay'].mean()\n",
    "data.loc[data['qty recharge']>=((data['qty recharge'].std())*3),'qty recharge']=data['qty recharge'].mean()\n",
    "data.loc[data['avg_daily_critical_hours_executed']>=((data['avg_daily_critical_hours_executed'].std())*3),'avg_daily_critical_hours_executed']=data['avg_daily_critical_hours_executed'].mean()\n",
    "data.loc[data['avg_special_hours_executed']>=((data['avg_special_hours_executed'].std())*3),'avg_special_hours_executed']=data['avg_special_hours_executed'].mean()\n",
    "# data.loc[data['avg_total_hours_executed']>=((data['avg_total_hours_executed'].std())*3),'avg_total_hours_executed']=data['avg_total_hours_executed'].mean()"
   ]
  },
  {
   "cell_type": "code",
   "execution_count": 25,
   "id": "ef37230a",
   "metadata": {},
   "outputs": [],
   "source": [
    "df = data\n",
    "df = df.drop_duplicates(['driver_uuid'])\n",
    "city = df[['driver_uuid', 'logistic_region', 'date_partition']]\n",
    "df = df.set_index(['driver_uuid'])"
   ]
  },
  {
   "cell_type": "code",
   "execution_count": 26,
   "id": "504a9a12",
   "metadata": {},
   "outputs": [],
   "source": [
    "dict_scaler = {}"
   ]
  },
  {
   "cell_type": "code",
   "execution_count": 27,
   "id": "41915e4a",
   "metadata": {},
   "outputs": [],
   "source": [
    "reducer = umap.UMAP(random_state=42,metric='cosine',\n",
    "     min_dist=0.01, n_neighbors=9)"
   ]
  },
  {
   "cell_type": "code",
   "execution_count": 28,
   "id": "8a612a7b",
   "metadata": {},
   "outputs": [],
   "source": [
    "def process(data, dict_scaler, reducer): #output_data_path\n",
    "    '''\n",
    "    The function to execute the processing job.\n",
    "    :param data: [pandas.DataFrame]\n",
    "    :param model_path: [str], directory path to load your model(s)\n",
    "    '''\n",
    "    \n",
    "    #dt = datetime.now().strftime('%Y%m%d')\n",
    "\n",
    "    features = [\n",
    "#                 'prop_critical_delay',\n",
    "#                 'driver_delay_origin',\n",
    "#                 'speed',\n",
    "                'prop_completed_routes',\n",
    "                'days_connected',\n",
    "                'avg_daily_critical_hours_executed',\n",
    "                'avg_special_hours_executed',\n",
    "#                 'avg_total_hours_executed',\n",
    "#                 'strikes',\n",
    "                'qty recharge',\n",
    "                'avg recharge',\n",
    "#                 '% no negative wallet',\n",
    "#                 'avg_daily_utr',\n",
    "#                 'consumer_evaluation'\n",
    "                ]\n",
    "\n",
    "    regions = sorted(data['logistic_region'].unique())\n",
    "    new_regions = [x for x in regions if x not in dict_scaler.keys()]\n",
    "\n",
    "    if len(new_regions) > 0:\n",
    "\n",
    "        for x in new_regions:\n",
    "            print('Scaling data for regions:', new_regions)\n",
    "            scaler = MinMaxScaler()\n",
    "            Xf     = data[data['logistic_region'] == x][features].copy()\n",
    "            dict_scaler[x] = scaler.fit(Xf)\n",
    "\n",
    "        # dump(dict_scaler, os.path.join(model_path, 'dict_scaler_' + dt + '.pkl'))\n",
    "    else:\n",
    "        print('There is no new regions')\n",
    "\n",
    "    # Scale data by region\n",
    "    data_group  = data.groupby('logistic_region', as_index = False)\n",
    "    data_scaled = []\n",
    "\n",
    "    for i, gr in data_group:\n",
    "        \n",
    "        scaler = dict_scaler[i]\n",
    "        gr_scaled = scaler.transform(gr[features])\n",
    "        gr_scaled = pd.DataFrame(gr_scaled, columns = features, index = gr.index)\n",
    "        data_scaled.append(gr_scaled)\n",
    "\n",
    "    data_scaled = pd.concat(data_scaled)\n",
    "    data_scaled = data_scaled.dropna()\n",
    "#     data_scaled = df\n",
    "\n",
    "    # reduce dimensionality\n",
    "    data_reduced = reducer.fit_transform(data_scaled)\n",
    "    data_reduced = pd.DataFrame(data_reduced, index = data_scaled.index)\n",
    "    data_reduced.columns = ['c' + str(i) for i in range(1, data_reduced.shape[1] + 1)]\n",
    "\n",
    "    # Saving files\n",
    "    # print(\"Saving to {}\".format(output_data_path))\n",
    "    # data_scaled.to_parquet(os.path.join(output_data_path, 'data_scaled.parquet'))\n",
    "    # data_reduced.to_parquet(os.path.join(output_data_path, 'data_reduced.parquet'))\n",
    "\n",
    "    return data_reduced"
   ]
  },
  {
   "cell_type": "code",
   "execution_count": 29,
   "id": "51c06a32",
   "metadata": {},
   "outputs": [
    {
     "name": "stdout",
     "output_type": "stream",
     "text": [
      "Scaling data for regions: ['Barranquilla', 'Bogota', 'Cali', 'Manizales', 'Medellin', 'Monteria', 'Palmira', 'Santa Marta', 'Soledad', 'Valledupar']\n",
      "Scaling data for regions: ['Barranquilla', 'Bogota', 'Cali', 'Manizales', 'Medellin', 'Monteria', 'Palmira', 'Santa Marta', 'Soledad', 'Valledupar']\n",
      "Scaling data for regions: ['Barranquilla', 'Bogota', 'Cali', 'Manizales', 'Medellin', 'Monteria', 'Palmira', 'Santa Marta', 'Soledad', 'Valledupar']\n",
      "Scaling data for regions: ['Barranquilla', 'Bogota', 'Cali', 'Manizales', 'Medellin', 'Monteria', 'Palmira', 'Santa Marta', 'Soledad', 'Valledupar']\n",
      "Scaling data for regions: ['Barranquilla', 'Bogota', 'Cali', 'Manizales', 'Medellin', 'Monteria', 'Palmira', 'Santa Marta', 'Soledad', 'Valledupar']\n",
      "Scaling data for regions: ['Barranquilla', 'Bogota', 'Cali', 'Manizales', 'Medellin', 'Monteria', 'Palmira', 'Santa Marta', 'Soledad', 'Valledupar']\n",
      "Scaling data for regions: ['Barranquilla', 'Bogota', 'Cali', 'Manizales', 'Medellin', 'Monteria', 'Palmira', 'Santa Marta', 'Soledad', 'Valledupar']\n",
      "Scaling data for regions: ['Barranquilla', 'Bogota', 'Cali', 'Manizales', 'Medellin', 'Monteria', 'Palmira', 'Santa Marta', 'Soledad', 'Valledupar']\n",
      "Scaling data for regions: ['Barranquilla', 'Bogota', 'Cali', 'Manizales', 'Medellin', 'Monteria', 'Palmira', 'Santa Marta', 'Soledad', 'Valledupar']\n",
      "Scaling data for regions: ['Barranquilla', 'Bogota', 'Cali', 'Manizales', 'Medellin', 'Monteria', 'Palmira', 'Santa Marta', 'Soledad', 'Valledupar']\n"
     ]
    }
   ],
   "source": [
    "data_reduced =  process(df, dict_scaler, reducer)"
   ]
  },
  {
   "cell_type": "code",
   "execution_count": 30,
   "id": "64a02705",
   "metadata": {},
   "outputs": [],
   "source": [
    "distortions = []\n",
    "K = range(1,10)\n",
    "for k in K:\n",
    "    kmeanModel = KMeans(n_clusters=k, n_init=20, random_state=42)\n",
    "    kmeanModel.fit(data_reduced)\n",
    "    distortions.append(kmeanModel.inertia_)"
   ]
  },
  {
   "cell_type": "code",
   "execution_count": 31,
   "id": "796b21a6",
   "metadata": {},
   "outputs": [],
   "source": [
    "kmeanModel=KMeans(n_clusters=2,n_init=20, random_state=42)\n",
    "clusterer = kmeanModel.fit(data_reduced)"
   ]
  },
  {
   "cell_type": "code",
   "execution_count": 32,
   "id": "fb7b4b80",
   "metadata": {},
   "outputs": [],
   "source": [
    "pred = clusterer.predict(data_reduced)"
   ]
  },
  {
   "cell_type": "code",
   "execution_count": 33,
   "id": "c960a070",
   "metadata": {
    "scrolled": true
   },
   "outputs": [],
   "source": [
    "response= {'driver_uuid': data_reduced.index, \"segmentation\": pred, \"date_partition\": df['date_partition']}\n",
    "response = pd.DataFrame(response)\n",
    "response['segmentation'] = response['segmentation'].astype(str)\n",
    "response['segmentation'] = response['segmentation'].replace({'0': 'A',\n",
    "\t\t'1': 'B'})"
   ]
  },
  {
   "cell_type": "code",
   "execution_count": 34,
   "id": "e6248be5",
   "metadata": {},
   "outputs": [
    {
     "data": {
      "text/plain": [
       "A    2762\n",
       "B    1532\n",
       "Name: segmentation, dtype: int64"
      ]
     },
     "execution_count": 34,
     "metadata": {},
     "output_type": "execute_result"
    }
   ],
   "source": [
    "response['segmentation'].value_counts()"
   ]
  },
  {
   "cell_type": "code",
   "execution_count": 35,
   "id": "a93d6ebd",
   "metadata": {},
   "outputs": [],
   "source": [
    "response.reset_index(drop = True, inplace = True)\n",
    "df = pd.merge(data, response, on=\"driver_uuid\")"
   ]
  },
  {
   "cell_type": "code",
   "execution_count": 36,
   "id": "d8a95fd2",
   "metadata": {},
   "outputs": [
    {
     "data": {
      "text/html": [
       "<div>\n",
       "<style scoped>\n",
       "    .dataframe tbody tr th:only-of-type {\n",
       "        vertical-align: middle;\n",
       "    }\n",
       "\n",
       "    .dataframe tbody tr th {\n",
       "        vertical-align: top;\n",
       "    }\n",
       "\n",
       "    .dataframe thead th {\n",
       "        text-align: right;\n",
       "    }\n",
       "</style>\n",
       "<table border=\"1\" class=\"dataframe\">\n",
       "  <thead>\n",
       "    <tr style=\"text-align: right;\">\n",
       "      <th>segmentation</th>\n",
       "      <th>A</th>\n",
       "      <th>B</th>\n",
       "    </tr>\n",
       "  </thead>\n",
       "  <tbody>\n",
       "    <tr>\n",
       "      <th>prop_completed_routes</th>\n",
       "      <td>0.566147</td>\n",
       "      <td>0.764145</td>\n",
       "    </tr>\n",
       "    <tr>\n",
       "      <th>days_connected</th>\n",
       "      <td>5.500181</td>\n",
       "      <td>8.308747</td>\n",
       "    </tr>\n",
       "    <tr>\n",
       "      <th>avg_daily_critical_hours_executed</th>\n",
       "      <td>0.993028</td>\n",
       "      <td>1.421651</td>\n",
       "    </tr>\n",
       "    <tr>\n",
       "      <th>avg_special_hours_executed</th>\n",
       "      <td>0.799146</td>\n",
       "      <td>1.341362</td>\n",
       "    </tr>\n",
       "    <tr>\n",
       "      <th>qty recharge</th>\n",
       "      <td>0.000362</td>\n",
       "      <td>1.434323</td>\n",
       "    </tr>\n",
       "    <tr>\n",
       "      <th>avg recharge</th>\n",
       "      <td>39.654228</td>\n",
       "      <td>41321.819647</td>\n",
       "    </tr>\n",
       "  </tbody>\n",
       "</table>\n",
       "</div>"
      ],
      "text/plain": [
       "segmentation                               A             B\n",
       "prop_completed_routes               0.566147      0.764145\n",
       "days_connected                      5.500181      8.308747\n",
       "avg_daily_critical_hours_executed   0.993028      1.421651\n",
       "avg_special_hours_executed          0.799146      1.341362\n",
       "qty recharge                        0.000362      1.434323\n",
       "avg recharge                       39.654228  41321.819647"
      ]
     },
     "execution_count": 36,
     "metadata": {},
     "output_type": "execute_result"
    }
   ],
   "source": [
    "df.groupby(\"segmentation\").mean().T"
   ]
  },
  {
   "cell_type": "code",
   "execution_count": 37,
   "id": "de33917d",
   "metadata": {},
   "outputs": [],
   "source": [
    "    features = [\n",
    "#                 'prop_critical_delay',\n",
    "#                 'driver_delay_origin',\n",
    "#                 'speed',\n",
    "                'prop_completed_routes',\n",
    "                'days_connected',\n",
    "                'avg_daily_critical_hours_executed',\n",
    "                'avg_special_hours_executed',\n",
    "#                 'avg_total_hours_executed',\n",
    "#                 'strikes',\n",
    "                'qty recharge',\n",
    "                'avg recharge',\n",
    "#                 '% no negative wallet',\n",
    "#                 'avg_daily_utr',\n",
    "#                 'consumer_evaluation'\n",
    "                ]"
   ]
  },
  {
   "cell_type": "code",
   "execution_count": 38,
   "id": "547dd4dc",
   "metadata": {},
   "outputs": [
    {
     "name": "stdout",
     "output_type": "stream",
     "text": [
      "[0.04437896 0.05724565 0.0483209  0.03511216 0.20516477 0.60977756]\n"
     ]
    },
    {
     "data": {
      "image/png": "[encoded data removed]",
      "text/plain": [
       "<Figure size 432x288 with 1 Axes>"
      ]
     },
     "metadata": {
      "needs_background": "light"
     },
     "output_type": "display_data"
    }
   ],
   "source": [
    "X = df[features] \n",
    "y = df['segmentation']  \n",
    "from sklearn.ensemble import ExtraTreesClassifier\n",
    "import matplotlib.pyplot as plt\n",
    "model = ExtraTreesClassifier()\n",
    "model.fit(X,y)\n",
    "print(model.feature_importances_) #use inbuilt class feature_importances of tree based classifiers\n",
    "#plot graph of feature importances for better visualization\n",
    "feat_importances = pd.Series(model.feature_importances_, index=X.columns)\n",
    "feat_importances.nlargest(12).plot(kind='barh')\n",
    "plt.show()"
   ]
  },
  {
   "cell_type": "code",
   "execution_count": 39,
   "id": "dab09376",
   "metadata": {},
   "outputs": [
    {
     "data": {
      "text/plain": [
       "<AxesSubplot:>"
      ]
     },
     "execution_count": 39,
     "metadata": {},
     "output_type": "execute_result"
    },
    {
     "data": {
      "image/png": "[encoded data removed]",
      "text/plain": [
       "<Figure size 1080x576 with 2 Axes>"
      ]
     },
     "metadata": {},
     "output_type": "display_data"
    }
   ],
   "source": [
    "corr=df.corr()\n",
    "mask=np.zeros_like(corr,dtype=bool)\n",
    "mask[np.triu_indices_from(mask)]=True\n",
    "sns.set(rc = {'figure.figsize':(15,8)})\n",
    "sns.heatmap(corr.abs(),annot=True,cmap=\"coolwarm\",mask=mask)"
   ]
  },
  {
   "cell_type": "markdown",
   "id": "76410926",
   "metadata": {},
   "source": [
    "### SUBSEGMENTATION A"
   ]
  },
  {
   "cell_type": "code",
   "execution_count": 40,
   "id": "f3a15cb4",
   "metadata": {},
   "outputs": [],
   "source": [
    "data_A=df[df[\"segmentation\"]==\"A\"]"
   ]
  },
  {
   "cell_type": "code",
   "execution_count": 41,
   "id": "1b9f6af2",
   "metadata": {},
   "outputs": [],
   "source": [
    "df_A = data_A.set_index('driver_uuid')"
   ]
  },
  {
   "cell_type": "code",
   "execution_count": 42,
   "id": "2c0021c9",
   "metadata": {},
   "outputs": [
    {
     "name": "stdout",
     "output_type": "stream",
     "text": [
      "There is no new regions\n"
     ]
    }
   ],
   "source": [
    "data_reduced_A=process(df_A, dict_scaler, reducer)"
   ]
  },
  {
   "cell_type": "code",
   "execution_count": 43,
   "id": "568a5e4f",
   "metadata": {},
   "outputs": [
    {
     "data": {
      "text/html": [
       "<div>\n",
       "<style scoped>\n",
       "    .dataframe tbody tr th:only-of-type {\n",
       "        vertical-align: middle;\n",
       "    }\n",
       "\n",
       "    .dataframe tbody tr th {\n",
       "        vertical-align: top;\n",
       "    }\n",
       "\n",
       "    .dataframe thead th {\n",
       "        text-align: right;\n",
       "    }\n",
       "</style>\n",
       "<table border=\"1\" class=\"dataframe\">\n",
       "  <thead>\n",
       "    <tr style=\"text-align: right;\">\n",
       "      <th></th>\n",
       "      <th>logistic_region</th>\n",
       "      <th>prop_completed_routes</th>\n",
       "      <th>days_connected</th>\n",
       "      <th>avg_daily_critical_hours_executed</th>\n",
       "      <th>avg_special_hours_executed</th>\n",
       "      <th>qty recharge</th>\n",
       "      <th>avg recharge</th>\n",
       "      <th>date_partition_x</th>\n",
       "      <th>segmentation</th>\n",
       "      <th>date_partition_y</th>\n",
       "    </tr>\n",
       "    <tr>\n",
       "      <th>driver_uuid</th>\n",
       "      <th></th>\n",
       "      <th></th>\n",
       "      <th></th>\n",
       "      <th></th>\n",
       "      <th></th>\n",
       "      <th></th>\n",
       "      <th></th>\n",
       "      <th></th>\n",
       "      <th></th>\n",
       "      <th></th>\n",
       "    </tr>\n",
       "  </thead>\n",
       "  <tbody>\n",
       "    <tr>\n",
       "      <th>0abbed50-7e0d-475a-b161-c2af444946ef</th>\n",
       "      <td>Bogota</td>\n",
       "      <td>0.678571</td>\n",
       "      <td>6</td>\n",
       "      <td>1.058750</td>\n",
       "      <td>2.540231</td>\n",
       "      <td>0.0</td>\n",
       "      <td>0.0</td>\n",
       "      <td>2022-10-11</td>\n",
       "      <td>A</td>\n",
       "      <td>2022-10-11</td>\n",
       "    </tr>\n",
       "    <tr>\n",
       "      <th>9d280512-97ef-4950-9ee7-4278b9b48902</th>\n",
       "      <td>Monteria</td>\n",
       "      <td>1.000000</td>\n",
       "      <td>1</td>\n",
       "      <td>1.307533</td>\n",
       "      <td>0.000000</td>\n",
       "      <td>0.0</td>\n",
       "      <td>0.0</td>\n",
       "      <td>2022-10-11</td>\n",
       "      <td>A</td>\n",
       "      <td>2022-10-11</td>\n",
       "    </tr>\n",
       "    <tr>\n",
       "      <th>029aa722-6241-4174-825f-c3689735ebd5</th>\n",
       "      <td>Barranquilla</td>\n",
       "      <td>1.000000</td>\n",
       "      <td>2</td>\n",
       "      <td>0.000000</td>\n",
       "      <td>0.000000</td>\n",
       "      <td>0.0</td>\n",
       "      <td>0.0</td>\n",
       "      <td>2022-10-11</td>\n",
       "      <td>A</td>\n",
       "      <td>2022-10-11</td>\n",
       "    </tr>\n",
       "    <tr>\n",
       "      <th>3e23da8c-f348-4bb6-a3ad-7d38b8768670</th>\n",
       "      <td>Barranquilla</td>\n",
       "      <td>0.873786</td>\n",
       "      <td>12</td>\n",
       "      <td>2.476458</td>\n",
       "      <td>1.329074</td>\n",
       "      <td>0.0</td>\n",
       "      <td>0.0</td>\n",
       "      <td>2022-10-11</td>\n",
       "      <td>A</td>\n",
       "      <td>2022-10-11</td>\n",
       "    </tr>\n",
       "    <tr>\n",
       "      <th>6f5eea49-ffd1-47c2-9481-edd97339130c</th>\n",
       "      <td>Bogota</td>\n",
       "      <td>1.000000</td>\n",
       "      <td>4</td>\n",
       "      <td>0.047153</td>\n",
       "      <td>0.013542</td>\n",
       "      <td>0.0</td>\n",
       "      <td>0.0</td>\n",
       "      <td>2022-10-11</td>\n",
       "      <td>A</td>\n",
       "      <td>2022-10-11</td>\n",
       "    </tr>\n",
       "    <tr>\n",
       "      <th>...</th>\n",
       "      <td>...</td>\n",
       "      <td>...</td>\n",
       "      <td>...</td>\n",
       "      <td>...</td>\n",
       "      <td>...</td>\n",
       "      <td>...</td>\n",
       "      <td>...</td>\n",
       "      <td>...</td>\n",
       "      <td>...</td>\n",
       "      <td>...</td>\n",
       "    </tr>\n",
       "    <tr>\n",
       "      <th>2c50dfde-d5fb-4376-b260-db22c71be60a</th>\n",
       "      <td>Bogota</td>\n",
       "      <td>0.442308</td>\n",
       "      <td>14</td>\n",
       "      <td>1.522063</td>\n",
       "      <td>1.533075</td>\n",
       "      <td>0.0</td>\n",
       "      <td>0.0</td>\n",
       "      <td>2022-10-11</td>\n",
       "      <td>A</td>\n",
       "      <td>2022-10-11</td>\n",
       "    </tr>\n",
       "    <tr>\n",
       "      <th>5cbbaca7-5318-4b7a-8ea8-ad20713a6fd9</th>\n",
       "      <td>Medellin</td>\n",
       "      <td>1.000000</td>\n",
       "      <td>2</td>\n",
       "      <td>0.791944</td>\n",
       "      <td>0.000000</td>\n",
       "      <td>0.0</td>\n",
       "      <td>0.0</td>\n",
       "      <td>2022-10-11</td>\n",
       "      <td>A</td>\n",
       "      <td>2022-10-11</td>\n",
       "    </tr>\n",
       "    <tr>\n",
       "      <th>820db4d3-f5a1-4e0d-8554-58367af8ccf5</th>\n",
       "      <td>Cali</td>\n",
       "      <td>1.000000</td>\n",
       "      <td>1</td>\n",
       "      <td>1.612500</td>\n",
       "      <td>0.000000</td>\n",
       "      <td>0.0</td>\n",
       "      <td>0.0</td>\n",
       "      <td>2022-10-11</td>\n",
       "      <td>A</td>\n",
       "      <td>2022-10-11</td>\n",
       "    </tr>\n",
       "    <tr>\n",
       "      <th>8227e97e-4437-4fb3-b5cb-76dd0674c03e</th>\n",
       "      <td>Bogota</td>\n",
       "      <td>0.620000</td>\n",
       "      <td>13</td>\n",
       "      <td>1.018611</td>\n",
       "      <td>1.308205</td>\n",
       "      <td>0.0</td>\n",
       "      <td>0.0</td>\n",
       "      <td>2022-10-11</td>\n",
       "      <td>A</td>\n",
       "      <td>2022-10-11</td>\n",
       "    </tr>\n",
       "    <tr>\n",
       "      <th>b205ec23-b103-4a2e-b357-3fe5a4c3c6cf</th>\n",
       "      <td>Monteria</td>\n",
       "      <td>0.709677</td>\n",
       "      <td>11</td>\n",
       "      <td>2.514343</td>\n",
       "      <td>3.072702</td>\n",
       "      <td>0.0</td>\n",
       "      <td>0.0</td>\n",
       "      <td>2022-10-11</td>\n",
       "      <td>A</td>\n",
       "      <td>2022-10-11</td>\n",
       "    </tr>\n",
       "  </tbody>\n",
       "</table>\n",
       "<p>2765 rows × 10 columns</p>\n",
       "</div>"
      ],
      "text/plain": [
       "                                     logistic_region  prop_completed_routes  \\\n",
       "driver_uuid                                                                   \n",
       "0abbed50-7e0d-475a-b161-c2af444946ef          Bogota               0.678571   \n",
       "9d280512-97ef-4950-9ee7-4278b9b48902        Monteria               1.000000   \n",
       "029aa722-6241-4174-825f-c3689735ebd5    Barranquilla               1.000000   \n",
       "3e23da8c-f348-4bb6-a3ad-7d38b8768670    Barranquilla               0.873786   \n",
       "6f5eea49-ffd1-47c2-9481-edd97339130c          Bogota               1.000000   \n",
       "...                                              ...                    ...   \n",
       "2c50dfde-d5fb-4376-b260-db22c71be60a          Bogota               0.442308   \n",
       "5cbbaca7-5318-4b7a-8ea8-ad20713a6fd9        Medellin               1.000000   \n",
       "820db4d3-f5a1-4e0d-8554-58367af8ccf5            Cali               1.000000   \n",
       "8227e97e-4437-4fb3-b5cb-76dd0674c03e          Bogota               0.620000   \n",
       "b205ec23-b103-4a2e-b357-3fe5a4c3c6cf        Monteria               0.709677   \n",
       "\n",
       "                                      days_connected  \\\n",
       "driver_uuid                                            \n",
       "0abbed50-7e0d-475a-b161-c2af444946ef               6   \n",
       "9d280512-97ef-4950-9ee7-4278b9b48902               1   \n",
       "029aa722-6241-4174-825f-c3689735ebd5               2   \n",
       "3e23da8c-f348-4bb6-a3ad-7d38b8768670              12   \n",
       "6f5eea49-ffd1-47c2-9481-edd97339130c               4   \n",
       "...                                              ...   \n",
       "2c50dfde-d5fb-4376-b260-db22c71be60a              14   \n",
       "5cbbaca7-5318-4b7a-8ea8-ad20713a6fd9               2   \n",
       "820db4d3-f5a1-4e0d-8554-58367af8ccf5               1   \n",
       "8227e97e-4437-4fb3-b5cb-76dd0674c03e              13   \n",
       "b205ec23-b103-4a2e-b357-3fe5a4c3c6cf              11   \n",
       "\n",
       "                                      avg_daily_critical_hours_executed  \\\n",
       "driver_uuid                                                               \n",
       "0abbed50-7e0d-475a-b161-c2af444946ef                           1.058750   \n",
       "9d280512-97ef-4950-9ee7-4278b9b48902                           1.307533   \n",
       "029aa722-6241-4174-825f-c3689735ebd5                           0.000000   \n",
       "3e23da8c-f348-4bb6-a3ad-7d38b8768670                           2.476458   \n",
       "6f5eea49-ffd1-47c2-9481-edd97339130c                           0.047153   \n",
       "...                                                                 ...   \n",
       "2c50dfde-d5fb-4376-b260-db22c71be60a                           1.522063   \n",
       "5cbbaca7-5318-4b7a-8ea8-ad20713a6fd9                           0.791944   \n",
       "820db4d3-f5a1-4e0d-8554-58367af8ccf5                           1.612500   \n",
       "8227e97e-4437-4fb3-b5cb-76dd0674c03e                           1.018611   \n",
       "b205ec23-b103-4a2e-b357-3fe5a4c3c6cf                           2.514343   \n",
       "\n",
       "                                      avg_special_hours_executed  \\\n",
       "driver_uuid                                                        \n",
       "0abbed50-7e0d-475a-b161-c2af444946ef                    2.540231   \n",
       "9d280512-97ef-4950-9ee7-4278b9b48902                    0.000000   \n",
       "029aa722-6241-4174-825f-c3689735ebd5                    0.000000   \n",
       "3e23da8c-f348-4bb6-a3ad-7d38b8768670                    1.329074   \n",
       "6f5eea49-ffd1-47c2-9481-edd97339130c                    0.013542   \n",
       "...                                                          ...   \n",
       "2c50dfde-d5fb-4376-b260-db22c71be60a                    1.533075   \n",
       "5cbbaca7-5318-4b7a-8ea8-ad20713a6fd9                    0.000000   \n",
       "820db4d3-f5a1-4e0d-8554-58367af8ccf5                    0.000000   \n",
       "8227e97e-4437-4fb3-b5cb-76dd0674c03e                    1.308205   \n",
       "b205ec23-b103-4a2e-b357-3fe5a4c3c6cf                    3.072702   \n",
       "\n",
       "                                      qty recharge  avg recharge  \\\n",
       "driver_uuid                                                        \n",
       "0abbed50-7e0d-475a-b161-c2af444946ef           0.0           0.0   \n",
       "9d280512-97ef-4950-9ee7-4278b9b48902           0.0           0.0   \n",
       "029aa722-6241-4174-825f-c3689735ebd5           0.0           0.0   \n",
       "3e23da8c-f348-4bb6-a3ad-7d38b8768670           0.0           0.0   \n",
       "6f5eea49-ffd1-47c2-9481-edd97339130c           0.0           0.0   \n",
       "...                                            ...           ...   \n",
       "2c50dfde-d5fb-4376-b260-db22c71be60a           0.0           0.0   \n",
       "5cbbaca7-5318-4b7a-8ea8-ad20713a6fd9           0.0           0.0   \n",
       "820db4d3-f5a1-4e0d-8554-58367af8ccf5           0.0           0.0   \n",
       "8227e97e-4437-4fb3-b5cb-76dd0674c03e           0.0           0.0   \n",
       "b205ec23-b103-4a2e-b357-3fe5a4c3c6cf           0.0           0.0   \n",
       "\n",
       "                                     date_partition_x segmentation  \\\n",
       "driver_uuid                                                          \n",
       "0abbed50-7e0d-475a-b161-c2af444946ef       2022-10-11            A   \n",
       "9d280512-97ef-4950-9ee7-4278b9b48902       2022-10-11            A   \n",
       "029aa722-6241-4174-825f-c3689735ebd5       2022-10-11            A   \n",
       "3e23da8c-f348-4bb6-a3ad-7d38b8768670       2022-10-11            A   \n",
       "6f5eea49-ffd1-47c2-9481-edd97339130c       2022-10-11            A   \n",
       "...                                               ...          ...   \n",
       "2c50dfde-d5fb-4376-b260-db22c71be60a       2022-10-11            A   \n",
       "5cbbaca7-5318-4b7a-8ea8-ad20713a6fd9       2022-10-11            A   \n",
       "820db4d3-f5a1-4e0d-8554-58367af8ccf5       2022-10-11            A   \n",
       "8227e97e-4437-4fb3-b5cb-76dd0674c03e       2022-10-11            A   \n",
       "b205ec23-b103-4a2e-b357-3fe5a4c3c6cf       2022-10-11            A   \n",
       "\n",
       "                                     date_partition_y  \n",
       "driver_uuid                                            \n",
       "0abbed50-7e0d-475a-b161-c2af444946ef       2022-10-11  \n",
       "9d280512-97ef-4950-9ee7-4278b9b48902       2022-10-11  \n",
       "029aa722-6241-4174-825f-c3689735ebd5       2022-10-11  \n",
       "3e23da8c-f348-4bb6-a3ad-7d38b8768670       2022-10-11  \n",
       "6f5eea49-ffd1-47c2-9481-edd97339130c       2022-10-11  \n",
       "...                                               ...  \n",
       "2c50dfde-d5fb-4376-b260-db22c71be60a       2022-10-11  \n",
       "5cbbaca7-5318-4b7a-8ea8-ad20713a6fd9       2022-10-11  \n",
       "820db4d3-f5a1-4e0d-8554-58367af8ccf5       2022-10-11  \n",
       "8227e97e-4437-4fb3-b5cb-76dd0674c03e       2022-10-11  \n",
       "b205ec23-b103-4a2e-b357-3fe5a4c3c6cf       2022-10-11  \n",
       "\n",
       "[2765 rows x 10 columns]"
      ]
     },
     "execution_count": 43,
     "metadata": {},
     "output_type": "execute_result"
    }
   ],
   "source": [
    "df_A"
   ]
  },
  {
   "cell_type": "code",
   "execution_count": 44,
   "id": "491babf5",
   "metadata": {},
   "outputs": [],
   "source": [
    "distortions = []\n",
    "K = range(1,10)\n",
    "for k in K:\n",
    "    kmeanModel = KMeans(n_clusters=k, n_init=20, random_state=42)\n",
    "    kmeanModel.fit(data_reduced_A)\n",
    "    distortions.append(kmeanModel.inertia_)"
   ]
  },
  {
   "cell_type": "code",
   "execution_count": 45,
   "id": "4ade4294",
   "metadata": {},
   "outputs": [],
   "source": [
    "kmeanModel=KMeans(n_clusters=2, n_init=20, random_state=42)\n",
    "clusterer_A = kmeanModel.fit(data_reduced_A)"
   ]
  },
  {
   "cell_type": "code",
   "execution_count": 46,
   "id": "64632023",
   "metadata": {},
   "outputs": [],
   "source": [
    "pred = clusterer_A.predict(data_reduced_A)"
   ]
  },
  {
   "cell_type": "code",
   "execution_count": 47,
   "id": "44464227",
   "metadata": {},
   "outputs": [],
   "source": [
    "response_A= {'driver_uuid': data_reduced_A.index, \"subsegmentation\": pred, \"date_partition\": df_A['date_partition_x']}\n",
    "response_A = pd.DataFrame(response_A)\n",
    "response_A['subsegmentation'] = response_A['subsegmentation'].astype(str)\n",
    "response_A['subsegmentation'] = response_A['subsegmentation'].replace({'0': 'AA',\n",
    "\t\t'1': 'AB'})"
   ]
  },
  {
   "cell_type": "code",
   "execution_count": 48,
   "id": "b0d37c80",
   "metadata": {},
   "outputs": [
    {
     "data": {
      "text/plain": [
       "AA    1506\n",
       "AB    1259\n",
       "Name: subsegmentation, dtype: int64"
      ]
     },
     "execution_count": 48,
     "metadata": {},
     "output_type": "execute_result"
    }
   ],
   "source": [
    "response_A['subsegmentation'].value_counts()"
   ]
  },
  {
   "cell_type": "code",
   "execution_count": 49,
   "id": "61c228cb",
   "metadata": {},
   "outputs": [],
   "source": [
    "response_A.reset_index(drop = True, inplace = True)\n",
    "df_A = pd.merge(df_A, response_A, on=\"driver_uuid\")"
   ]
  },
  {
   "cell_type": "code",
   "execution_count": 50,
   "id": "a6a3dc20",
   "metadata": {},
   "outputs": [
    {
     "data": {
      "text/html": [
       "<div>\n",
       "<style scoped>\n",
       "    .dataframe tbody tr th:only-of-type {\n",
       "        vertical-align: middle;\n",
       "    }\n",
       "\n",
       "    .dataframe tbody tr th {\n",
       "        vertical-align: top;\n",
       "    }\n",
       "\n",
       "    .dataframe thead th {\n",
       "        text-align: right;\n",
       "    }\n",
       "</style>\n",
       "<table border=\"1\" class=\"dataframe\">\n",
       "  <thead>\n",
       "    <tr style=\"text-align: right;\">\n",
       "      <th>subsegmentation</th>\n",
       "      <th>AA</th>\n",
       "      <th>AB</th>\n",
       "    </tr>\n",
       "  </thead>\n",
       "  <tbody>\n",
       "    <tr>\n",
       "      <th>prop_completed_routes</th>\n",
       "      <td>0.422519</td>\n",
       "      <td>0.736825</td>\n",
       "    </tr>\n",
       "    <tr>\n",
       "      <th>days_connected</th>\n",
       "      <td>7.607427</td>\n",
       "      <td>2.973872</td>\n",
       "    </tr>\n",
       "    <tr>\n",
       "      <th>avg_daily_critical_hours_executed</th>\n",
       "      <td>1.111064</td>\n",
       "      <td>0.848097</td>\n",
       "    </tr>\n",
       "    <tr>\n",
       "      <th>avg_special_hours_executed</th>\n",
       "      <td>0.893785</td>\n",
       "      <td>0.685777</td>\n",
       "    </tr>\n",
       "    <tr>\n",
       "      <th>qty recharge</th>\n",
       "      <td>0.000000</td>\n",
       "      <td>0.000792</td>\n",
       "    </tr>\n",
       "    <tr>\n",
       "      <th>avg recharge</th>\n",
       "      <td>29.754190</td>\n",
       "      <td>51.286319</td>\n",
       "    </tr>\n",
       "  </tbody>\n",
       "</table>\n",
       "</div>"
      ],
      "text/plain": [
       "subsegmentation                           AA         AB\n",
       "prop_completed_routes               0.422519   0.736825\n",
       "days_connected                      7.607427   2.973872\n",
       "avg_daily_critical_hours_executed   1.111064   0.848097\n",
       "avg_special_hours_executed          0.893785   0.685777\n",
       "qty recharge                        0.000000   0.000792\n",
       "avg recharge                       29.754190  51.286319"
      ]
     },
     "execution_count": 50,
     "metadata": {},
     "output_type": "execute_result"
    }
   ],
   "source": [
    "df_A.groupby(\"subsegmentation\").mean().T"
   ]
  },
  {
   "cell_type": "markdown",
   "id": "677c2fef",
   "metadata": {},
   "source": [
    "### SUBSEGMENTATION B"
   ]
  },
  {
   "cell_type": "code",
   "execution_count": 51,
   "id": "067c8a71",
   "metadata": {},
   "outputs": [],
   "source": [
    "data_B=df[df[\"segmentation\"]==\"B\"]"
   ]
  },
  {
   "cell_type": "code",
   "execution_count": 52,
   "id": "d2488afa",
   "metadata": {},
   "outputs": [],
   "source": [
    "df_B = data_B.set_index('driver_uuid')"
   ]
  },
  {
   "cell_type": "code",
   "execution_count": 53,
   "id": "0907256c",
   "metadata": {},
   "outputs": [
    {
     "name": "stdout",
     "output_type": "stream",
     "text": [
      "There is no new regions\n"
     ]
    }
   ],
   "source": [
    "# data_reduced1 = process(df_B, dict_scaler, reducer)\n",
    "\n",
    "data_reduced_B=process(df_B, dict_scaler, reducer)"
   ]
  },
  {
   "cell_type": "code",
   "execution_count": 54,
   "id": "bf300d89",
   "metadata": {},
   "outputs": [
    {
     "name": "stderr",
     "output_type": "stream",
     "text": [
      "C:\\Users\\daniel.gallo_ifood\\anaconda3\\lib\\site-packages\\sklearn\\cluster\\_kmeans.py:881: UserWarning: KMeans is known to have a memory leak on Windows with MKL, when there are less chunks than available threads. You can avoid it by setting the environment variable OMP_NUM_THREADS=6.\n",
      "  warnings.warn(\n"
     ]
    }
   ],
   "source": [
    "distortions = []\n",
    "K = range(1,10)\n",
    "for k in K:\n",
    "    kmeanModel = KMeans(n_clusters=k, n_init=20, random_state=42)\n",
    "    kmeanModel.fit(data_reduced_B)\n",
    "    distortions.append(kmeanModel.inertia_)"
   ]
  },
  {
   "cell_type": "code",
   "execution_count": 55,
   "id": "a2f9e731",
   "metadata": {},
   "outputs": [],
   "source": [
    "kmeanModel=KMeans(n_clusters=4, n_init=20, random_state=42)\n",
    "clusterer_B = kmeanModel.fit(data_reduced_B)"
   ]
  },
  {
   "cell_type": "code",
   "execution_count": 56,
   "id": "530bd46c",
   "metadata": {},
   "outputs": [],
   "source": [
    "pred = clusterer_B.predict(data_reduced_B)"
   ]
  },
  {
   "cell_type": "code",
   "execution_count": 57,
   "id": "ed885543",
   "metadata": {},
   "outputs": [],
   "source": [
    "response_B= {'driver_uuid': data_reduced_B.index, \"subsegmentation\": pred, \"date_partition\": df_B['date_partition_x']}\n",
    "response_B = pd.DataFrame(response_B)\n",
    "response_B['subsegmentation'] = response_B['subsegmentation'].astype(str)\n",
    "response_B['subsegmentation'] = response_B['subsegmentation'].replace({'0': 'BA',\n",
    "\t\t'1': 'BB', '2':'BC', '3':'BD'})"
   ]
  },
  {
   "cell_type": "code",
   "execution_count": 58,
   "id": "03c392d1",
   "metadata": {},
   "outputs": [
    {
     "data": {
      "text/plain": [
       "BD    538\n",
       "BB    477\n",
       "BA    452\n",
       "BC     65\n",
       "Name: subsegmentation, dtype: int64"
      ]
     },
     "execution_count": 58,
     "metadata": {},
     "output_type": "execute_result"
    }
   ],
   "source": [
    "response_B['subsegmentation'].value_counts()"
   ]
  },
  {
   "cell_type": "code",
   "execution_count": 61,
   "id": "f6a9b7c0",
   "metadata": {},
   "outputs": [],
   "source": [
    "response_B.reset_index(drop = True, inplace = True)\n",
    "df_B = pd.merge(df_B, response_B, on=\"driver_uuid\")"
   ]
  },
  {
   "cell_type": "code",
   "execution_count": 62,
   "id": "f2e8c3c7",
   "metadata": {},
   "outputs": [
    {
     "data": {
      "text/html": [
       "<div>\n",
       "<style scoped>\n",
       "    .dataframe tbody tr th:only-of-type {\n",
       "        vertical-align: middle;\n",
       "    }\n",
       "\n",
       "    .dataframe tbody tr th {\n",
       "        vertical-align: top;\n",
       "    }\n",
       "\n",
       "    .dataframe thead th {\n",
       "        text-align: right;\n",
       "    }\n",
       "</style>\n",
       "<table border=\"1\" class=\"dataframe\">\n",
       "  <thead>\n",
       "    <tr style=\"text-align: right;\">\n",
       "      <th>subsegmentation</th>\n",
       "      <th>BA</th>\n",
       "      <th>BB</th>\n",
       "      <th>BC</th>\n",
       "      <th>BD</th>\n",
       "    </tr>\n",
       "  </thead>\n",
       "  <tbody>\n",
       "    <tr>\n",
       "      <th>prop_completed_routes</th>\n",
       "      <td>0.775542</td>\n",
       "      <td>0.807161</td>\n",
       "      <td>0.767137</td>\n",
       "      <td>0.716069</td>\n",
       "    </tr>\n",
       "    <tr>\n",
       "      <th>days_connected</th>\n",
       "      <td>4.115044</td>\n",
       "      <td>10.268344</td>\n",
       "      <td>1.015385</td>\n",
       "      <td>10.975836</td>\n",
       "    </tr>\n",
       "    <tr>\n",
       "      <th>avg_daily_critical_hours_executed</th>\n",
       "      <td>1.160296</td>\n",
       "      <td>1.688735</td>\n",
       "      <td>0.002889</td>\n",
       "      <td>1.575838</td>\n",
       "    </tr>\n",
       "    <tr>\n",
       "      <th>avg_special_hours_executed</th>\n",
       "      <td>0.707170</td>\n",
       "      <td>1.974821</td>\n",
       "      <td>0.001722</td>\n",
       "      <td>1.474395</td>\n",
       "    </tr>\n",
       "    <tr>\n",
       "      <th>qty recharge</th>\n",
       "      <td>0.681744</td>\n",
       "      <td>3.225076</td>\n",
       "      <td>0.000000</td>\n",
       "      <td>0.652181</td>\n",
       "    </tr>\n",
       "    <tr>\n",
       "      <th>avg recharge</th>\n",
       "      <td>41928.111251</td>\n",
       "      <td>45369.455582</td>\n",
       "      <td>0.000000</td>\n",
       "      <td>42216.154462</td>\n",
       "    </tr>\n",
       "  </tbody>\n",
       "</table>\n",
       "</div>"
      ],
      "text/plain": [
       "subsegmentation                              BA            BB        BC  \\\n",
       "prop_completed_routes                  0.775542      0.807161  0.767137   \n",
       "days_connected                         4.115044     10.268344  1.015385   \n",
       "avg_daily_critical_hours_executed      1.160296      1.688735  0.002889   \n",
       "avg_special_hours_executed             0.707170      1.974821  0.001722   \n",
       "qty recharge                           0.681744      3.225076  0.000000   \n",
       "avg recharge                       41928.111251  45369.455582  0.000000   \n",
       "\n",
       "subsegmentation                              BD  \n",
       "prop_completed_routes                  0.716069  \n",
       "days_connected                        10.975836  \n",
       "avg_daily_critical_hours_executed      1.575838  \n",
       "avg_special_hours_executed             1.474395  \n",
       "qty recharge                           0.652181  \n",
       "avg recharge                       42216.154462  "
      ]
     },
     "execution_count": 62,
     "metadata": {},
     "output_type": "execute_result"
    }
   ],
   "source": [
    "df_B.groupby(\"subsegmentation\").mean().T"
   ]
  },
  {
   "cell_type": "code",
   "execution_count": 63,
   "id": "13245c5e",
   "metadata": {},
   "outputs": [
    {
     "name": "stderr",
     "output_type": "stream",
     "text": [
      "C:\\Users\\DANIEL~1.GAL\\AppData\\Local\\Temp/ipykernel_18408/4008468014.py:1: FutureWarning: Dropping of nuisance columns in DataFrame reductions (with 'numeric_only=None') is deprecated; in a future version this will raise TypeError.  Select only valid columns before calling the reduction.\n",
      "  pd.DataFrame(df.skew(axis=0))\n"
     ]
    },
    {
     "data": {
      "text/html": [
       "<div>\n",
       "<style scoped>\n",
       "    .dataframe tbody tr th:only-of-type {\n",
       "        vertical-align: middle;\n",
       "    }\n",
       "\n",
       "    .dataframe tbody tr th {\n",
       "        vertical-align: top;\n",
       "    }\n",
       "\n",
       "    .dataframe thead th {\n",
       "        text-align: right;\n",
       "    }\n",
       "</style>\n",
       "<table border=\"1\" class=\"dataframe\">\n",
       "  <thead>\n",
       "    <tr style=\"text-align: right;\">\n",
       "      <th></th>\n",
       "      <th>0</th>\n",
       "    </tr>\n",
       "  </thead>\n",
       "  <tbody>\n",
       "    <tr>\n",
       "      <th>prop_completed_routes</th>\n",
       "      <td>-0.313033</td>\n",
       "    </tr>\n",
       "    <tr>\n",
       "      <th>days_connected</th>\n",
       "      <td>0.344587</td>\n",
       "    </tr>\n",
       "    <tr>\n",
       "      <th>avg_daily_critical_hours_executed</th>\n",
       "      <td>0.348286</td>\n",
       "    </tr>\n",
       "    <tr>\n",
       "      <th>avg_special_hours_executed</th>\n",
       "      <td>0.846671</td>\n",
       "    </tr>\n",
       "    <tr>\n",
       "      <th>qty recharge</th>\n",
       "      <td>2.723995</td>\n",
       "    </tr>\n",
       "    <tr>\n",
       "      <th>avg recharge</th>\n",
       "      <td>1.300910</td>\n",
       "    </tr>\n",
       "  </tbody>\n",
       "</table>\n",
       "</div>"
      ],
      "text/plain": [
       "                                          0\n",
       "prop_completed_routes             -0.313033\n",
       "days_connected                     0.344587\n",
       "avg_daily_critical_hours_executed  0.348286\n",
       "avg_special_hours_executed         0.846671\n",
       "qty recharge                       2.723995\n",
       "avg recharge                       1.300910"
      ]
     },
     "execution_count": 63,
     "metadata": {},
     "output_type": "execute_result"
    }
   ],
   "source": [
    "pd.DataFrame(df.skew(axis=0))"
   ]
  },
  {
   "cell_type": "code",
   "execution_count": 64,
   "id": "24010c93",
   "metadata": {},
   "outputs": [],
   "source": [
    "df_final = df_A.append(df_B,ignore_index=True)"
   ]
  },
  {
   "cell_type": "code",
   "execution_count": 65,
   "id": "09a9d7f3",
   "metadata": {},
   "outputs": [],
   "source": [
    "df_final.to_excel(r'C:\\Users\\daniel.gallo_ifood\\Desktop\\Daniel\\Prioritization\\prioritization_first.xlsx', index = False)"
   ]
  },
  {
   "cell_type": "code",
   "execution_count": 66,
   "id": "2f497b42",
   "metadata": {},
   "outputs": [
    {
     "data": {
      "text/plain": [
       "AA    1508\n",
       "AB    1263\n",
       "BD     538\n",
       "BB     477\n",
       "BA     452\n",
       "BC      65\n",
       "Name: subsegmentation, dtype: int64"
      ]
     },
     "execution_count": 66,
     "metadata": {},
     "output_type": "execute_result"
    }
   ],
   "source": [
    "df_final['subsegmentation'].value_counts()"
   ]
  },
  {
   "cell_type": "code",
   "execution_count": 67,
   "id": "23f790d9",
   "metadata": {
    "scrolled": false
   },
   "outputs": [
    {
     "data": {
      "text/html": [
       "<div>\n",
       "<style scoped>\n",
       "    .dataframe tbody tr th:only-of-type {\n",
       "        vertical-align: middle;\n",
       "    }\n",
       "\n",
       "    .dataframe tbody tr th {\n",
       "        vertical-align: top;\n",
       "    }\n",
       "\n",
       "    .dataframe thead th {\n",
       "        text-align: right;\n",
       "    }\n",
       "</style>\n",
       "<table border=\"1\" class=\"dataframe\">\n",
       "  <thead>\n",
       "    <tr style=\"text-align: right;\">\n",
       "      <th>subsegmentation</th>\n",
       "      <th>AA</th>\n",
       "      <th>AB</th>\n",
       "      <th>BA</th>\n",
       "      <th>BB</th>\n",
       "      <th>BC</th>\n",
       "      <th>BD</th>\n",
       "    </tr>\n",
       "  </thead>\n",
       "  <tbody>\n",
       "    <tr>\n",
       "      <th>prop_completed_routes</th>\n",
       "      <td>0.422519</td>\n",
       "      <td>0.736825</td>\n",
       "      <td>0.775542</td>\n",
       "      <td>0.807161</td>\n",
       "      <td>0.767137</td>\n",
       "      <td>0.716069</td>\n",
       "    </tr>\n",
       "    <tr>\n",
       "      <th>days_connected</th>\n",
       "      <td>7.607427</td>\n",
       "      <td>2.973872</td>\n",
       "      <td>4.115044</td>\n",
       "      <td>10.268344</td>\n",
       "      <td>1.015385</td>\n",
       "      <td>10.975836</td>\n",
       "    </tr>\n",
       "    <tr>\n",
       "      <th>avg_daily_critical_hours_executed</th>\n",
       "      <td>1.111064</td>\n",
       "      <td>0.848097</td>\n",
       "      <td>1.160296</td>\n",
       "      <td>1.688735</td>\n",
       "      <td>0.002889</td>\n",
       "      <td>1.575838</td>\n",
       "    </tr>\n",
       "    <tr>\n",
       "      <th>avg_special_hours_executed</th>\n",
       "      <td>0.893785</td>\n",
       "      <td>0.685777</td>\n",
       "      <td>0.707170</td>\n",
       "      <td>1.974821</td>\n",
       "      <td>0.001722</td>\n",
       "      <td>1.474395</td>\n",
       "    </tr>\n",
       "    <tr>\n",
       "      <th>qty recharge</th>\n",
       "      <td>0.000000</td>\n",
       "      <td>0.000792</td>\n",
       "      <td>0.681744</td>\n",
       "      <td>3.225076</td>\n",
       "      <td>0.000000</td>\n",
       "      <td>0.652181</td>\n",
       "    </tr>\n",
       "    <tr>\n",
       "      <th>avg recharge</th>\n",
       "      <td>29.754190</td>\n",
       "      <td>51.286319</td>\n",
       "      <td>41928.111251</td>\n",
       "      <td>45369.455582</td>\n",
       "      <td>0.000000</td>\n",
       "      <td>42216.154462</td>\n",
       "    </tr>\n",
       "  </tbody>\n",
       "</table>\n",
       "</div>"
      ],
      "text/plain": [
       "subsegmentation                           AA         AB            BA  \\\n",
       "prop_completed_routes               0.422519   0.736825      0.775542   \n",
       "days_connected                      7.607427   2.973872      4.115044   \n",
       "avg_daily_critical_hours_executed   1.111064   0.848097      1.160296   \n",
       "avg_special_hours_executed          0.893785   0.685777      0.707170   \n",
       "qty recharge                        0.000000   0.000792      0.681744   \n",
       "avg recharge                       29.754190  51.286319  41928.111251   \n",
       "\n",
       "subsegmentation                              BB        BC            BD  \n",
       "prop_completed_routes                  0.807161  0.767137      0.716069  \n",
       "days_connected                        10.268344  1.015385     10.975836  \n",
       "avg_daily_critical_hours_executed      1.688735  0.002889      1.575838  \n",
       "avg_special_hours_executed             1.974821  0.001722      1.474395  \n",
       "qty recharge                           3.225076  0.000000      0.652181  \n",
       "avg recharge                       45369.455582  0.000000  42216.154462  "
      ]
     },
     "execution_count": 67,
     "metadata": {},
     "output_type": "execute_result"
    }
   ],
   "source": [
    "df_final.groupby(\"subsegmentation\").mean().T"
   ]
  },
  {
   "cell_type": "code",
   "execution_count": 68,
   "id": "eab68dff",
   "metadata": {},
   "outputs": [],
   "source": [
    "# 1 AA\n",
    "# 2 BC + Nuevos (+reactivadosbuenos)\n",
    "# 3 BA\n",
    "# 4 BD + Reactivados malos\n",
    "# 5 BB\n",
    "# 6 AB\n"
   ]
  },
  {
   "cell_type": "code",
   "execution_count": 69,
   "id": "45b1ad96",
   "metadata": {},
   "outputs": [],
   "source": [
    "data = pd.read_csv(\"prio_oct12_features.csv\")"
   ]
  },
  {
   "cell_type": "code",
   "execution_count": 70,
   "id": "84660ee6",
   "metadata": {},
   "outputs": [],
   "source": [
    "data = data.drop(['prop_critical_delay','speed', 'avg_total_hours_executed', 'consumer_evaluation', 'strikes', '% no negative wallet', 'avg_daily_utr', 'driver_delay_origin', 'orders', 'antiquity'], axis=1)"
   ]
  },
  {
   "cell_type": "code",
   "execution_count": 71,
   "id": "926fe44e",
   "metadata": {},
   "outputs": [],
   "source": [
    "# data.loc[data['speed']>=40,'speed']=data['speed'].mean()\n",
    "# data.loc[data['avg_daily_utr']>3,'avg_daily_utr']=data['avg_daily_utr'].mean()\n",
    "data.loc[data['avg recharge']>=((data['avg recharge'].std())*3),'avg recharge']=data['avg recharge'].mean()\n",
    "# data.loc[data['prop_critical_delay']>=((data['prop_critical_delay'].std())*3), 'prop_critical_delay']=data['prop_critical_delay'].mean()\n",
    "data.loc[data['qty recharge']>=((data['qty recharge'].std())*3),'qty recharge']=data['qty recharge'].mean()\n",
    "data.loc[data['avg_daily_critical_hours_executed']>=((data['avg_daily_critical_hours_executed'].std())*3),'avg_daily_critical_hours_executed']=data['avg_daily_critical_hours_executed'].mean()\n",
    "data.loc[data['avg_special_hours_executed']>=((data['avg_special_hours_executed'].std())*3),'avg_special_hours_executed']=data['avg_special_hours_executed'].mean()\n",
    "# data.loc[data['avg_total_hours_executed']>=((data['avg_total_hours_executed'].std())*3),'avg_total_hours_executed']=data['avg_total_hours_executed'].mean()"
   ]
  },
  {
   "cell_type": "code",
   "execution_count": 73,
   "id": "cebe12dd",
   "metadata": {},
   "outputs": [],
   "source": [
    "df = data\n",
    "df = df.drop_duplicates(['driver_uuid'])\n",
    "city = df[['driver_uuid', 'logistic_region', 'date_partition']]\n",
    "df = df.set_index(['driver_uuid'])"
   ]
  },
  {
   "cell_type": "code",
   "execution_count": 74,
   "id": "7b223219",
   "metadata": {},
   "outputs": [],
   "source": [
    "# dict_scaler = {}\n",
    "# reducer = umap.UMAP(random_state=42)"
   ]
  },
  {
   "cell_type": "code",
   "execution_count": 75,
   "id": "dc7a7ec9",
   "metadata": {},
   "outputs": [
    {
     "name": "stdout",
     "output_type": "stream",
     "text": [
      "There is no new regions\n"
     ]
    }
   ],
   "source": [
    "data_reduced =  process(df, dict_scaler, reducer)"
   ]
  },
  {
   "cell_type": "code",
   "execution_count": 76,
   "id": "53a38fe3",
   "metadata": {},
   "outputs": [],
   "source": [
    "pred = clusterer.predict(data_reduced)"
   ]
  },
  {
   "cell_type": "code",
   "execution_count": 77,
   "id": "320f397c",
   "metadata": {},
   "outputs": [
    {
     "data": {
      "text/plain": [
       "KMeans(n_clusters=2, n_init=20, random_state=42)"
      ]
     },
     "execution_count": 77,
     "metadata": {},
     "output_type": "execute_result"
    }
   ],
   "source": [
    "clusterer"
   ]
  },
  {
   "cell_type": "code",
   "execution_count": 78,
   "id": "25346fa9",
   "metadata": {},
   "outputs": [],
   "source": [
    "response= {'driver_uuid': data_reduced.index, \"segmentation\": pred, \"date_partition\": df['date_partition']}\n",
    "response = pd.DataFrame(response)\n",
    "response['segmentation'] = response['segmentation'].astype(str)\n",
    "response['segmentation'] = response['segmentation'].replace({'0': 'A',\n",
    "\t\t'1': 'B'})"
   ]
  },
  {
   "cell_type": "code",
   "execution_count": 79,
   "id": "e3fa6ebb",
   "metadata": {},
   "outputs": [
    {
     "data": {
      "text/plain": [
       "A    2762\n",
       "B    1532\n",
       "Name: segmentation, dtype: int64"
      ]
     },
     "execution_count": 79,
     "metadata": {},
     "output_type": "execute_result"
    }
   ],
   "source": [
    "response['segmentation'].value_counts()"
   ]
  },
  {
   "cell_type": "code",
   "execution_count": 80,
   "id": "a3143beb",
   "metadata": {},
   "outputs": [],
   "source": [
    "response.reset_index(drop = True, inplace = True)\n",
    "df = pd.merge(data, response, on=\"driver_uuid\")"
   ]
  },
  {
   "cell_type": "code",
   "execution_count": 81,
   "id": "11bbea03",
   "metadata": {},
   "outputs": [
    {
     "data": {
      "text/html": [
       "<div>\n",
       "<style scoped>\n",
       "    .dataframe tbody tr th:only-of-type {\n",
       "        vertical-align: middle;\n",
       "    }\n",
       "\n",
       "    .dataframe tbody tr th {\n",
       "        vertical-align: top;\n",
       "    }\n",
       "\n",
       "    .dataframe thead th {\n",
       "        text-align: right;\n",
       "    }\n",
       "</style>\n",
       "<table border=\"1\" class=\"dataframe\">\n",
       "  <thead>\n",
       "    <tr style=\"text-align: right;\">\n",
       "      <th>segmentation</th>\n",
       "      <th>A</th>\n",
       "      <th>B</th>\n",
       "    </tr>\n",
       "  </thead>\n",
       "  <tbody>\n",
       "    <tr>\n",
       "      <th>prop_completed_routes</th>\n",
       "      <td>0.566147</td>\n",
       "      <td>0.764145</td>\n",
       "    </tr>\n",
       "    <tr>\n",
       "      <th>days_connected</th>\n",
       "      <td>5.500181</td>\n",
       "      <td>8.308747</td>\n",
       "    </tr>\n",
       "    <tr>\n",
       "      <th>avg_daily_critical_hours_executed</th>\n",
       "      <td>0.993028</td>\n",
       "      <td>1.421651</td>\n",
       "    </tr>\n",
       "    <tr>\n",
       "      <th>avg_special_hours_executed</th>\n",
       "      <td>0.799146</td>\n",
       "      <td>1.341362</td>\n",
       "    </tr>\n",
       "    <tr>\n",
       "      <th>qty recharge</th>\n",
       "      <td>0.000362</td>\n",
       "      <td>1.434323</td>\n",
       "    </tr>\n",
       "    <tr>\n",
       "      <th>avg recharge</th>\n",
       "      <td>39.654228</td>\n",
       "      <td>41321.819647</td>\n",
       "    </tr>\n",
       "  </tbody>\n",
       "</table>\n",
       "</div>"
      ],
      "text/plain": [
       "segmentation                               A             B\n",
       "prop_completed_routes               0.566147      0.764145\n",
       "days_connected                      5.500181      8.308747\n",
       "avg_daily_critical_hours_executed   0.993028      1.421651\n",
       "avg_special_hours_executed          0.799146      1.341362\n",
       "qty recharge                        0.000362      1.434323\n",
       "avg recharge                       39.654228  41321.819647"
      ]
     },
     "execution_count": 81,
     "metadata": {},
     "output_type": "execute_result"
    }
   ],
   "source": [
    "df.groupby(\"segmentation\").mean().T"
   ]
  },
  {
   "cell_type": "code",
   "execution_count": 82,
   "id": "b97a8770",
   "metadata": {},
   "outputs": [],
   "source": [
    "data_A=df[df[\"segmentation\"]==\"A\"]"
   ]
  },
  {
   "cell_type": "code",
   "execution_count": 83,
   "id": "cb80c388",
   "metadata": {},
   "outputs": [],
   "source": [
    "df_A = data_A.set_index('driver_uuid')"
   ]
  },
  {
   "cell_type": "code",
   "execution_count": 84,
   "id": "8c252b48",
   "metadata": {},
   "outputs": [
    {
     "name": "stdout",
     "output_type": "stream",
     "text": [
      "There is no new regions\n"
     ]
    }
   ],
   "source": [
    "data_reduced_A=process(df_A, dict_scaler, reducer)"
   ]
  },
  {
   "cell_type": "code",
   "execution_count": 85,
   "id": "205a6485",
   "metadata": {},
   "outputs": [],
   "source": [
    "pred = clusterer_A.predict(data_reduced_A)"
   ]
  },
  {
   "cell_type": "code",
   "execution_count": 86,
   "id": "0fac6e99",
   "metadata": {},
   "outputs": [],
   "source": [
    "response_A= {'driver_uuid' : data_reduced_A.index, \"subsegmentation\": pred, \"date_partition\": df_A['date_partition_x']}\n",
    "response_A = pd.DataFrame(response_A)\n",
    "response_A['subsegmentation'] = response_A['subsegmentation'].astype(str)\n",
    "response_A['subsegmentation'] = response_A['subsegmentation'].replace({'0': 'AA',\n",
    "\t\t'1': 'AB',\n",
    "\t\t'2': 'AC'})"
   ]
  },
  {
   "cell_type": "code",
   "execution_count": 87,
   "id": "377c8e63",
   "metadata": {},
   "outputs": [],
   "source": [
    "response_A.reset_index(drop = True, inplace = True)\n",
    "df_A = pd.merge(df_A, response_A, on=\"driver_uuid\")"
   ]
  },
  {
   "cell_type": "code",
   "execution_count": 88,
   "id": "5fbfa591",
   "metadata": {},
   "outputs": [
    {
     "data": {
      "text/plain": [
       "AA    1506\n",
       "AB    1259\n",
       "Name: subsegmentation, dtype: int64"
      ]
     },
     "execution_count": 88,
     "metadata": {},
     "output_type": "execute_result"
    }
   ],
   "source": [
    "response_A['subsegmentation'].value_counts()"
   ]
  },
  {
   "cell_type": "code",
   "execution_count": 89,
   "id": "c8bbf2d6",
   "metadata": {},
   "outputs": [
    {
     "data": {
      "text/html": [
       "<div>\n",
       "<style scoped>\n",
       "    .dataframe tbody tr th:only-of-type {\n",
       "        vertical-align: middle;\n",
       "    }\n",
       "\n",
       "    .dataframe tbody tr th {\n",
       "        vertical-align: top;\n",
       "    }\n",
       "\n",
       "    .dataframe thead th {\n",
       "        text-align: right;\n",
       "    }\n",
       "</style>\n",
       "<table border=\"1\" class=\"dataframe\">\n",
       "  <thead>\n",
       "    <tr style=\"text-align: right;\">\n",
       "      <th>subsegmentation</th>\n",
       "      <th>AA</th>\n",
       "      <th>AB</th>\n",
       "    </tr>\n",
       "  </thead>\n",
       "  <tbody>\n",
       "    <tr>\n",
       "      <th>prop_completed_routes</th>\n",
       "      <td>0.422519</td>\n",
       "      <td>0.736825</td>\n",
       "    </tr>\n",
       "    <tr>\n",
       "      <th>days_connected</th>\n",
       "      <td>7.607427</td>\n",
       "      <td>2.973872</td>\n",
       "    </tr>\n",
       "    <tr>\n",
       "      <th>avg_daily_critical_hours_executed</th>\n",
       "      <td>1.111064</td>\n",
       "      <td>0.848097</td>\n",
       "    </tr>\n",
       "    <tr>\n",
       "      <th>avg_special_hours_executed</th>\n",
       "      <td>0.893785</td>\n",
       "      <td>0.685777</td>\n",
       "    </tr>\n",
       "    <tr>\n",
       "      <th>qty recharge</th>\n",
       "      <td>0.000000</td>\n",
       "      <td>0.000792</td>\n",
       "    </tr>\n",
       "    <tr>\n",
       "      <th>avg recharge</th>\n",
       "      <td>29.754190</td>\n",
       "      <td>51.286319</td>\n",
       "    </tr>\n",
       "  </tbody>\n",
       "</table>\n",
       "</div>"
      ],
      "text/plain": [
       "subsegmentation                           AA         AB\n",
       "prop_completed_routes               0.422519   0.736825\n",
       "days_connected                      7.607427   2.973872\n",
       "avg_daily_critical_hours_executed   1.111064   0.848097\n",
       "avg_special_hours_executed          0.893785   0.685777\n",
       "qty recharge                        0.000000   0.000792\n",
       "avg recharge                       29.754190  51.286319"
      ]
     },
     "execution_count": 89,
     "metadata": {},
     "output_type": "execute_result"
    }
   ],
   "source": [
    "df_A.groupby(\"subsegmentation\").mean().T"
   ]
  },
  {
   "cell_type": "code",
   "execution_count": 90,
   "id": "916e7940",
   "metadata": {},
   "outputs": [],
   "source": [
    "data_B=df[df[\"segmentation\"]==\"B\"]"
   ]
  },
  {
   "cell_type": "code",
   "execution_count": 91,
   "id": "12ad01af",
   "metadata": {},
   "outputs": [],
   "source": [
    "df_B = data_B.set_index('driver_uuid')"
   ]
  },
  {
   "cell_type": "code",
   "execution_count": 92,
   "id": "3797d48b",
   "metadata": {},
   "outputs": [
    {
     "name": "stdout",
     "output_type": "stream",
     "text": [
      "There is no new regions\n"
     ]
    }
   ],
   "source": [
    "data_reduced_B=process(df_B, dict_scaler, reducer)"
   ]
  },
  {
   "cell_type": "code",
   "execution_count": 93,
   "id": "1540171b",
   "metadata": {},
   "outputs": [],
   "source": [
    "pred = clusterer_B.predict(data_reduced_B)"
   ]
  },
  {
   "cell_type": "code",
   "execution_count": 94,
   "id": "53efb9cd",
   "metadata": {},
   "outputs": [],
   "source": [
    "response_B= {'driver_uuid': data_reduced_B.index, \"subsegmentation\": pred, \"date_partition\": df_B['date_partition_x']}\n",
    "response_B = pd.DataFrame(response_B)\n",
    "response_B['subsegmentation'] = response_B['subsegmentation'].astype(str)\n",
    "response_B['subsegmentation'] = response_B['subsegmentation'].replace({'0': 'BA',\n",
    "\t\t'1': 'BB',\n",
    "\t\t'2': 'BC',\n",
    "\t\t'3': 'BD'})"
   ]
  },
  {
   "cell_type": "code",
   "execution_count": 95,
   "id": "20ec70aa",
   "metadata": {},
   "outputs": [],
   "source": [
    "response_B.reset_index(drop = True, inplace = True)\n",
    "df_B = pd.merge(df_B, response_B, on=\"driver_uuid\")"
   ]
  },
  {
   "cell_type": "code",
   "execution_count": 96,
   "id": "8bc8cb84",
   "metadata": {},
   "outputs": [
    {
     "data": {
      "text/plain": [
       "BD    538\n",
       "BB    477\n",
       "BA    452\n",
       "BC     65\n",
       "Name: subsegmentation, dtype: int64"
      ]
     },
     "execution_count": 96,
     "metadata": {},
     "output_type": "execute_result"
    }
   ],
   "source": [
    "response_B['subsegmentation'].value_counts()"
   ]
  },
  {
   "cell_type": "code",
   "execution_count": 97,
   "id": "c8f901e1",
   "metadata": {},
   "outputs": [
    {
     "data": {
      "text/html": [
       "<div>\n",
       "<style scoped>\n",
       "    .dataframe tbody tr th:only-of-type {\n",
       "        vertical-align: middle;\n",
       "    }\n",
       "\n",
       "    .dataframe tbody tr th {\n",
       "        vertical-align: top;\n",
       "    }\n",
       "\n",
       "    .dataframe thead th {\n",
       "        text-align: right;\n",
       "    }\n",
       "</style>\n",
       "<table border=\"1\" class=\"dataframe\">\n",
       "  <thead>\n",
       "    <tr style=\"text-align: right;\">\n",
       "      <th>subsegmentation</th>\n",
       "      <th>BA</th>\n",
       "      <th>BB</th>\n",
       "      <th>BC</th>\n",
       "      <th>BD</th>\n",
       "    </tr>\n",
       "  </thead>\n",
       "  <tbody>\n",
       "    <tr>\n",
       "      <th>prop_completed_routes</th>\n",
       "      <td>0.775542</td>\n",
       "      <td>0.807161</td>\n",
       "      <td>0.767137</td>\n",
       "      <td>0.716069</td>\n",
       "    </tr>\n",
       "    <tr>\n",
       "      <th>days_connected</th>\n",
       "      <td>4.115044</td>\n",
       "      <td>10.268344</td>\n",
       "      <td>1.015385</td>\n",
       "      <td>10.975836</td>\n",
       "    </tr>\n",
       "    <tr>\n",
       "      <th>avg_daily_critical_hours_executed</th>\n",
       "      <td>1.160296</td>\n",
       "      <td>1.688735</td>\n",
       "      <td>0.002889</td>\n",
       "      <td>1.575838</td>\n",
       "    </tr>\n",
       "    <tr>\n",
       "      <th>avg_special_hours_executed</th>\n",
       "      <td>0.707170</td>\n",
       "      <td>1.974821</td>\n",
       "      <td>0.001722</td>\n",
       "      <td>1.474395</td>\n",
       "    </tr>\n",
       "    <tr>\n",
       "      <th>qty recharge</th>\n",
       "      <td>0.681744</td>\n",
       "      <td>3.225076</td>\n",
       "      <td>0.000000</td>\n",
       "      <td>0.652181</td>\n",
       "    </tr>\n",
       "    <tr>\n",
       "      <th>avg recharge</th>\n",
       "      <td>41928.111251</td>\n",
       "      <td>45369.455582</td>\n",
       "      <td>0.000000</td>\n",
       "      <td>42216.154462</td>\n",
       "    </tr>\n",
       "  </tbody>\n",
       "</table>\n",
       "</div>"
      ],
      "text/plain": [
       "subsegmentation                              BA            BB        BC  \\\n",
       "prop_completed_routes                  0.775542      0.807161  0.767137   \n",
       "days_connected                         4.115044     10.268344  1.015385   \n",
       "avg_daily_critical_hours_executed      1.160296      1.688735  0.002889   \n",
       "avg_special_hours_executed             0.707170      1.974821  0.001722   \n",
       "qty recharge                           0.681744      3.225076  0.000000   \n",
       "avg recharge                       41928.111251  45369.455582  0.000000   \n",
       "\n",
       "subsegmentation                              BD  \n",
       "prop_completed_routes                  0.716069  \n",
       "days_connected                        10.975836  \n",
       "avg_daily_critical_hours_executed      1.575838  \n",
       "avg_special_hours_executed             1.474395  \n",
       "qty recharge                           0.652181  \n",
       "avg recharge                       42216.154462  "
      ]
     },
     "execution_count": 97,
     "metadata": {},
     "output_type": "execute_result"
    }
   ],
   "source": [
    "df_B.groupby(\"subsegmentation\").mean().T"
   ]
  },
  {
   "cell_type": "code",
   "execution_count": 98,
   "id": "769387cd",
   "metadata": {},
   "outputs": [],
   "source": [
    "df_final = df_A.append(df_B,ignore_index=True)"
   ]
  },
  {
   "cell_type": "code",
   "execution_count": 99,
   "id": "6e32cc2a",
   "metadata": {},
   "outputs": [
    {
     "data": {
      "text/html": [
       "<div>\n",
       "<style scoped>\n",
       "    .dataframe tbody tr th:only-of-type {\n",
       "        vertical-align: middle;\n",
       "    }\n",
       "\n",
       "    .dataframe tbody tr th {\n",
       "        vertical-align: top;\n",
       "    }\n",
       "\n",
       "    .dataframe thead th {\n",
       "        text-align: right;\n",
       "    }\n",
       "</style>\n",
       "<table border=\"1\" class=\"dataframe\">\n",
       "  <thead>\n",
       "    <tr style=\"text-align: right;\">\n",
       "      <th>subsegmentation</th>\n",
       "      <th>AA</th>\n",
       "      <th>AB</th>\n",
       "      <th>BA</th>\n",
       "      <th>BB</th>\n",
       "      <th>BC</th>\n",
       "      <th>BD</th>\n",
       "    </tr>\n",
       "  </thead>\n",
       "  <tbody>\n",
       "    <tr>\n",
       "      <th>prop_completed_routes</th>\n",
       "      <td>0.422519</td>\n",
       "      <td>0.736825</td>\n",
       "      <td>0.775542</td>\n",
       "      <td>0.807161</td>\n",
       "      <td>0.767137</td>\n",
       "      <td>0.716069</td>\n",
       "    </tr>\n",
       "    <tr>\n",
       "      <th>days_connected</th>\n",
       "      <td>7.607427</td>\n",
       "      <td>2.973872</td>\n",
       "      <td>4.115044</td>\n",
       "      <td>10.268344</td>\n",
       "      <td>1.015385</td>\n",
       "      <td>10.975836</td>\n",
       "    </tr>\n",
       "    <tr>\n",
       "      <th>avg_daily_critical_hours_executed</th>\n",
       "      <td>1.111064</td>\n",
       "      <td>0.848097</td>\n",
       "      <td>1.160296</td>\n",
       "      <td>1.688735</td>\n",
       "      <td>0.002889</td>\n",
       "      <td>1.575838</td>\n",
       "    </tr>\n",
       "    <tr>\n",
       "      <th>avg_special_hours_executed</th>\n",
       "      <td>0.893785</td>\n",
       "      <td>0.685777</td>\n",
       "      <td>0.707170</td>\n",
       "      <td>1.974821</td>\n",
       "      <td>0.001722</td>\n",
       "      <td>1.474395</td>\n",
       "    </tr>\n",
       "    <tr>\n",
       "      <th>qty recharge</th>\n",
       "      <td>0.000000</td>\n",
       "      <td>0.000792</td>\n",
       "      <td>0.681744</td>\n",
       "      <td>3.225076</td>\n",
       "      <td>0.000000</td>\n",
       "      <td>0.652181</td>\n",
       "    </tr>\n",
       "    <tr>\n",
       "      <th>avg recharge</th>\n",
       "      <td>29.754190</td>\n",
       "      <td>51.286319</td>\n",
       "      <td>41928.111251</td>\n",
       "      <td>45369.455582</td>\n",
       "      <td>0.000000</td>\n",
       "      <td>42216.154462</td>\n",
       "    </tr>\n",
       "  </tbody>\n",
       "</table>\n",
       "</div>"
      ],
      "text/plain": [
       "subsegmentation                           AA         AB            BA  \\\n",
       "prop_completed_routes               0.422519   0.736825      0.775542   \n",
       "days_connected                      7.607427   2.973872      4.115044   \n",
       "avg_daily_critical_hours_executed   1.111064   0.848097      1.160296   \n",
       "avg_special_hours_executed          0.893785   0.685777      0.707170   \n",
       "qty recharge                        0.000000   0.000792      0.681744   \n",
       "avg recharge                       29.754190  51.286319  41928.111251   \n",
       "\n",
       "subsegmentation                              BB        BC            BD  \n",
       "prop_completed_routes                  0.807161  0.767137      0.716069  \n",
       "days_connected                        10.268344  1.015385     10.975836  \n",
       "avg_daily_critical_hours_executed      1.688735  0.002889      1.575838  \n",
       "avg_special_hours_executed             1.974821  0.001722      1.474395  \n",
       "qty recharge                           3.225076  0.000000      0.652181  \n",
       "avg recharge                       45369.455582  0.000000  42216.154462  "
      ]
     },
     "execution_count": 99,
     "metadata": {},
     "output_type": "execute_result"
    }
   ],
   "source": [
    "df_final.groupby(\"subsegmentation\").mean().T"
   ]
  },
  {
   "cell_type": "code",
   "execution_count": null,
   "id": "90c3380e",
   "metadata": {},
   "outputs": [],
   "source": [
    "#BB\n",
    "#BD\n",
    "#BA\n",
    "#AA\n",
    "#AB\n",
    "#BC"
   ]
  },
  {
   "cell_type": "code",
   "execution_count": 101,
   "id": "fa4a8f07",
   "metadata": {},
   "outputs": [],
   "source": [
    "df_final.to_csv('prioritization_10_12.csv', index=False)"
   ]
  },
  {
   "cell_type": "code",
   "execution_count": null,
   "id": "57d3ebab",
   "metadata": {},
   "outputs": [],
   "source": [
    "df_final"
   ]
  },
  {
   "cell_type": "code",
   "execution_count": null,
   "id": "3a62cc6e",
   "metadata": {},
   "outputs": [],
   "source": []
  }
 ],
 "metadata": {
  "kernelspec": {
   "display_name": "Python 3 (ipykernel)",
   "language": "python",
   "name": "python3"
  },
  "language_info": {
   "codemirror_mode": {
    "name": "ipython",
    "version": 3
   },
   "file_extension": ".py",
   "mimetype": "text/x-python",
   "name": "python",
   "nbconvert_exporter": "python",
   "pygments_lexer": "ipython3",
   "version": "3.9.7"
  }
 },
 "nbformat": 4,
 "nbformat_minor": 5
}
